{
 "cells": [
  {
   "cell_type": "markdown",
   "metadata": {},
   "source": [
    "# ADM Health Check\n",
    "\n",
    "The ADM Health Check serves as your first line of diagnostics for Adaptive Decision Manager (ADM) implementations. It provides a comprehensive initial assessment that helps identify potential issues, bottlenecks, and areas requiring attention in your ADM system. Think of it as a diagnostic scan that highlights where you might need to look deeper."
   ]
  },
  {
   "cell_type": "markdown",
   "metadata": {},
   "source": [
    "## Running a Health Check\n",
    "\n",
    "You can generate an ADM Health Check report in two ways:\n",
    "\n",
    "1. Using the Python function:\n",
    "```python\n",
    "from pdstools.generate import healthcheck\n",
    "\n",
    "healthcheck(\n",
    "    input_dir=\"path/to/your/datamart/exports\",\n",
    "    output_dir=\"path/to/output\",\n",
    "    title=\"My ADM Health Check\"\n",
    ")\n",
    "```\n",
    "\n",
    "2. Through the pdstools app via CLI:\n",
    "```bash\n",
    "uv run pdstools run\n",
    "```"
   ]
  },
  {
   "cell_type": "markdown",
   "metadata": {},
   "source": [
    "## What Can Health Check Help You Find?\n",
    "\n",
    "The Health Check report helps identify various potential issues in your ADM system:\n",
    "\n",
    "1. **Underperforming Models**\n",
    "   - Models with AUC below acceptable thresholds\n",
    "   - Models with insufficient learning data\n",
    "   - Unexpected performance degradation\n",
    "\n",
    "2. **Data Quality Issues**\n",
    "   - Missing responses in certain channels\n",
    "   - Unexpected gaps in data collection\n",
    "   - Irregular response patterns\n",
    "\n",
    "3. **Predictor Problems**\n",
    "   - Inactive or stale predictors\n",
    "   - Predictors with no responses\n",
    "   - Poor performing predictors\n",
    "\n",
    "4. **Action/Channel Concerns**\n",
    "   - Underutilized channels\n",
    "   - Actions with low success rates\n",
    "   - Imbalanced response distribution"
   ]
  },
  {
   "cell_type": "markdown",
   "metadata": {},
   "source": [
    "## Example: Identifying Problematic Models\n",
    "\n",
    "Let's look at how the Health Check can help identify models that need attention. We'll use the response distribution analysis as an example:"
   ]
  },
  {
   "cell_type": "code",
   "execution_count": null,
   "metadata": {},
   "outputs": [],
   "source": [
    "import polars as pl\n",
    "from pdstools import datasets\n",
    "from pdstools.adm import ADMDatamart\n",
    "\n",
    "# Load sample data\n",
    "dm = datasets.cdh_sample()\n",
    "\n",
    "# Get model statistics\n",
    "model_stats = dm.get_model_statistics()\n",
    "\n",
    "# Find models with potential issues\n",
    "problematic_models = model_stats.filter(\n",
    "    (pl.col(\"ResponseCount\") < 1000) |  # Low response volume\n",
    "    (pl.col(\"Performance\") < 0.55)      # Poor performance\n",
    ")\n",
    "\n",
    "# Display problematic models\n",
    "print(\"Models requiring attention:\")\n",
    "display(problematic_models)\n",
    "\n",
    "# Visualize response distribution\n",
    "dm.plot.response_distribution()"
   ]
  },
  {
   "cell_type": "markdown",
   "metadata": {},
   "source": [
    "In this example, we're looking for models that might need attention due to:\n",
    "- Insufficient response volume (< 1000 responses)\n",
    "- Poor performance (AUC < 0.55)\n",
    "\n",
    "The response distribution visualization helps identify:\n",
    "- Models with unusual response patterns\n",
    "- Potential data collection issues\n",
    "- Seasonal or temporal anomalies"
   ]
  },
  {
   "cell_type": "markdown",
   "metadata": {},
   "source": [
    "## Taking Action on Findings\n",
    "\n",
    "When the Health Check identifies issues, here's how to proceed:\n",
    "\n",
    "1. **For Model Issues**\n",
    "   - Investigate the model's predictor set\n",
    "   - Check recent changes in data collection\n",
    "   - Consider retraining or adjusting the model\n",
    "\n",
    "2. **For Data Problems**\n",
    "   - Verify data collection processes\n",
    "   - Check for system configuration issues\n",
    "   - Ensure proper response recording\n",
    "\n",
    "3. **For Predictor Issues**\n",
    "   - Review predictor relevance\n",
    "   - Check for data quality problems\n",
    "   - Consider adding or removing predictors\n",
    "\n",
    "Remember: The Health Check is your starting point - it helps identify where to look deeper, but additional investigation is often needed to understand the root cause of any issues found."
   ]
  },
  {
   "cell_type": "markdown",
   "metadata": {},
   "source": [
    "## Conclusion\n",
    "\n",
    "The ADM Health Check is your first step in maintaining a healthy ADM implementation. Use it regularly to:\n",
    "- Catch potential issues early\n",
    "- Identify areas needing deeper investigation\n",
    "- Maintain optimal system performance\n",
    "- Guide your optimization efforts\n",
    "\n",
    "When issues are found, conduct more specific analysis by either in pdstools to investigate further and determine the best course of action."
   ]
  }
 ],
 "metadata": {
  "kernelspec": {
   "display_name": "Python 3",
   "language": "python",
   "name": "python3"
  },
  "language_info": {
   "codemirror_mode": {
    "name": "ipython",
    "version": 3
   },
   "file_extension": ".py",
   "mimetype": "text/x-python",
   "name": "python",
   "nbconvert_exporter": "python",
   "pygments_lexer": "ipython3",
   "version": "3.8.0"
  }
 },
 "nbformat": 4,
 "nbformat_minor": 4
}
